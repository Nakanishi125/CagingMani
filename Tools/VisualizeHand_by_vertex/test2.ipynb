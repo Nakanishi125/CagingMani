{
 "cells": [
  {
   "cell_type": "code",
   "execution_count": 2,
   "source": [
    "import matplotlib as mpl\r\n",
    "import matplotlib.pyplot as plt\r\n",
    "import pandas as pd\r\n",
    "import numpy as np\r\n",
    "import math"
   ],
   "outputs": [],
   "metadata": {}
  },
  {
   "cell_type": "code",
   "execution_count": 6,
   "source": [
    "Data = pd.read_csv(\"../../robot_vertex.csv\", header=None)\r\n",
    "\r\n",
    "lx = Data.iloc[:20,0]\r\n",
    "ly = Data.iloc[:20,1]\r\n",
    "lx = lx.values.tolist()\r\n",
    "ly = ly.values.tolist()\r\n",
    "lxlist = [lx[5*(i-1):5*i] for i in range(5)]\r\n",
    "lxlist.pop(0)\r\n",
    "lylist = [ly[5*(i-1):5*i] for i in range(5)]\r\n",
    "lylist.pop(0)\r\n",
    "\r\n",
    "\r\n",
    "rx = Data.iloc[20:,0]\r\n",
    "ry = Data.iloc[20:,1]\r\n",
    "rx = rx.values.tolist()\r\n",
    "ry = ry.values.tolist()\r\n",
    "\r\n",
    "rxlist = [rx[5*(i-1):5*i] for i in range(5)]\r\n",
    "rxlist.pop(0)\r\n",
    "rylist = [ry[5*(i-1):5*i] for i in range(5)]\r\n",
    "rylist.pop(0)\r\n",
    "\r\n"
   ],
   "outputs": [
    {
     "output_type": "execute_result",
     "data": {
      "text/plain": [
       "[]"
      ]
     },
     "metadata": {},
     "execution_count": 6
    }
   ],
   "metadata": {}
  },
  {
   "cell_type": "code",
   "execution_count": 7,
   "source": [
    "fig = plt.figure()\r\n",
    "ax = fig.add_subplot(1,1,1)\r\n",
    "ax.set(xlim=(-300,200),ylim=(-10,500))\r\n",
    "ax.set_aspect('equal')\r\n",
    "\r\n",
    "for i in range(len(lxlist)):\r\n",
    "    ax.plot(lxlist[i], lylist[i])\r\n",
    "for i in range(len(rxlist)):\r\n",
    "    ax.plot(rxlist[i], rylist[i])\r\n"
   ],
   "outputs": [
    {
     "output_type": "display_data",
     "data": {
      "image/png": "[encoded data removed]",
      "text/plain": [
       "<Figure size 432x288 with 1 Axes>"
      ]
     },
     "metadata": {
      "needs_background": "light"
     }
    }
   ],
   "metadata": {}
  }
 ],
 "metadata": {
  "orig_nbformat": 4,
  "language_info": {
   "name": "python",
   "version": "3.9.6",
   "mimetype": "text/x-python",
   "codemirror_mode": {
    "name": "ipython",
    "version": 3
   },
   "pygments_lexer": "ipython3",
   "nbconvert_exporter": "python",
   "file_extension": ".py"
  },
  "kernelspec": {
   "name": "python3",
   "display_name": "Python 3.9.6 64-bit ('jupyter': conda)"
  },
  "interpreter": {
   "hash": "b6f8e19ed8320c2694bac98967d704ab42ca6df09581b88b3255728e38a7f1d6"
  }
 },
 "nbformat": 4,
 "nbformat_minor": 2
}