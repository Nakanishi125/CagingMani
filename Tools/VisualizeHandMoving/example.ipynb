{
 "cells": [
  {
   "cell_type": "code",
   "execution_count": 1,
   "source": [
    "import numpy as np\r\n",
    "import pandas as pd\r\n",
    "import matplotlib.pyplot as plt\r\n",
    "from mpl_toolkits.mplot3d import Axes3D\r\n",
    "%matplotlib inline\r\n",
    "import math"
   ],
   "outputs": [],
   "metadata": {}
  },
  {
   "cell_type": "code",
   "execution_count": 2,
   "source": [
    "def deg_to_rad(deg):\r\n",
    "    rad = deg*3.1415/180\r\n",
    "    return rad"
   ],
   "outputs": [],
   "metadata": {}
  },
  {
   "cell_type": "code",
   "execution_count": 23,
   "source": [
    "x = int(input(\"x=\"))\r\n",
    "y = int(input(\"y=\"))\r\n",
    "deg = int(input(\"th=\"))\r\n",
    "th = deg_to_rad(deg)\r\n",
    "Long = 150\r\n",
    "Short = 70\r\n",
    "r = math.sqrt(Long*Long + Short*Short)\r\n",
    "aspect = math.atan2(Short, Long)\r\n",
    "\r\n",
    "xx = []\r\n",
    "yy = []\r\n",
    "\r\n",
    "x1 = x - 0.5*r*math.sin(aspect-th)\r\n",
    "y1 = y - 0.5*r*math.cos(aspect-th)\r\n",
    "print(str(x1)+\",\"+str(y1))\r\n",
    "xx.append(x1)\r\n",
    "yy.append(y1)\r\n",
    "x2 = x1 + Short*math.cos(th)\r\n",
    "y2 = y1 + Short*math.sin(th)\r\n",
    "xx.append(x2)\r\n",
    "yy.append(y2)\r\n",
    "\r\n",
    "x3 = x2 - Long*math.sin(th)\r\n",
    "y3 = y2 + Long*math.cos(th)\r\n",
    "xx.append(x3)\r\n",
    "yy.append(y3)\r\n",
    "x4 = x3 - Short*math.cos(th)\r\n",
    "y4 = y3 - Short*math.sin(th)\r\n",
    "xx.append(x4)\r\n",
    "yy.append(y4)\r\n",
    "xx.append(x1)\r\n",
    "yy.append(y1)\r\n",
    "\r\n",
    "fig = plt.figure()\r\n",
    "ax = fig.add_subplot(111)\r\n",
    "ax.set_xlim(xmin=-200, xmax=200)\r\n",
    "ax.set_ylim(ymin=0, ymax = 400)\r\n",
    "ax.set_aspect(\"equal\")\r\n",
    "ax.plot(xx,yy)\r\n",
    "\r\n"
   ],
   "outputs": [
    {
     "output_type": "stream",
     "name": "stdout",
     "text": [
      "82.45234919115796,107.18401787715995\n"
     ]
    },
    {
     "output_type": "execute_result",
     "data": {
      "text/plain": [
       "[<matplotlib.lines.Line2D at 0x2197b88adf0>]"
      ]
     },
     "metadata": {},
     "execution_count": 23
    },
    {
     "output_type": "display_data",
     "data": {
      "image/png": "[encoded data removed]",
      "text/plain": [
       "<Figure size 432x288 with 1 Axes>"
      ]
     },
     "metadata": {
      "needs_background": "light"
     }
    }
   ],
   "metadata": {}
  }
 ],
 "metadata": {
  "orig_nbformat": 4,
  "language_info": {
   "name": "python",
   "version": "3.9.6",
   "mimetype": "text/x-python",
   "codemirror_mode": {
    "name": "ipython",
    "version": 3
   },
   "pygments_lexer": "ipython3",
   "nbconvert_exporter": "python",
   "file_extension": ".py"
  },
  "kernelspec": {
   "name": "python3",
   "display_name": "Python 3.9.6 64-bit ('jupyter': conda)"
  },
  "interpreter": {
   "hash": "b6f8e19ed8320c2694bac98967d704ab42ca6df09581b88b3255728e38a7f1d6"
  }
 },
 "nbformat": 4,
 "nbformat_minor": 2
}